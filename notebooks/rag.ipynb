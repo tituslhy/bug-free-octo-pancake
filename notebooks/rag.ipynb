{
 "cells": [
  {
   "cell_type": "code",
   "execution_count": 1,
   "id": "854a79aa",
   "metadata": {},
   "outputs": [],
   "source": [
    "%load_ext autoreload\n",
    "%autoreload 2"
   ]
  },
  {
   "cell_type": "code",
   "execution_count": 2,
   "id": "838ec77a",
   "metadata": {},
   "outputs": [],
   "source": [
    "import os\n",
    "from dotenv import load_dotenv, find_dotenv\n",
    "import warnings\n",
    "import nest_asyncio\n",
    "\n",
    "warnings.filterwarnings(\"ignore\")\n",
    "nest_asyncio.apply()\n",
    "_ = load_dotenv(find_dotenv())"
   ]
  },
  {
   "cell_type": "code",
   "execution_count": null,
   "id": "b587ffb9",
   "metadata": {},
   "outputs": [
    {
     "name": "stdout",
     "output_type": "stream",
     "text": [
      "--2025-06-12 01:43:37--  https://www.hbs.edu/ris/Publication%20Files/24-038_51f8444f-502c-4139-8bf2-56eb4b65c58a.pdf\n",
      "Resolving www.hbs.edu (www.hbs.edu)... 204.246.191.48, 204.246.191.64, 204.246.191.26, ...\n",
      "Connecting to www.hbs.edu (www.hbs.edu)|204.246.191.48|:443... connected.\n",
      "HTTP request sent, awaiting response... 200 OK\n",
      "Length: 947645 (925K) [application/pdf]\n",
      "Saving to: ‘../data/hbs_oss_study.pdf’\n",
      "\n",
      "../data/hbs_oss_stu 100%[===================>] 925.43K  --.-KB/s    in 0.03s   \n",
      "\n",
      "2025-06-12 01:43:37 (28.1 MB/s) - ‘../data/hbs_oss_study.pdf’ saved [947645/947645]\n",
      "\n"
     ]
    }
   ],
   "source": [
    "!wget \"https://www.hbs.edu/ris/Publication%20Files/24-038_51f8444f-502c-4139-8bf2-56eb4b65c58a.pdf\" -O \"../data/hbs_oss_study.pdf\""
   ]
  },
  {
   "cell_type": "code",
   "execution_count": null,
   "id": "13da388b",
   "metadata": {},
   "outputs": [],
   "source": [
    "from llama_index.core import Settings, VectorStoreIndex\n",
    "from llama_index.core.node_parser import MarkdownNodeParser\n",
    "from llama_index.readers.docling import DoclingReader\n",
    "from llama_index.llms.azure_openai import AzureOpenAI\n",
    "from llama_index.embeddings.huggingface import HuggingFaceEmbedding\n",
    "\n",
    "api_key=os.environ[\"AZURE_OPENAI_API_KEY\"]\n",
    "azure_endpoint=os.environ[\"AZURE_OPENAI_ENDPOINT\"]\n",
    "api_version = os.environ[\"AZURE_API_VERSION\"]\n",
    "\n",
    "Settings.llm = AzureOpenAI(\n",
    "    model=\"gpt-4o\",\n",
    "    deployment_name=os.environ[\"AZURE_OPENAI_GPT4O_DEPLOYMENT_NAME\"],\n",
    "    api_key = api_key,\n",
    "    azure_endpoint = azure_endpoint,\n",
    "    api_version = api_version,\n",
    "    timeout = 120.0,\n",
    "    temperature = 0,\n",
    ")\n",
    "Settings.embed_model = HuggingFaceEmbedding(\n",
    "    model_name=\"llamaindex/vdr-2b-multi-v1\",\n",
    "    device=\"cuda\",  # \"mps\" for mac, \"cuda\" for nvidia GPUs\n",
    "    trust_remote_code=True,    \n",
    ")\n",
    "\n",
    "reader = DoclingReader()\n",
    "node_parser = MarkdownNodeParser()"
   ]
  },
  {
   "cell_type": "code",
   "execution_count": null,
   "id": "d11f7aca",
   "metadata": {},
   "outputs": [],
   "source": []
  }
 ],
 "metadata": {
  "kernelspec": {
   "display_name": ".venv",
   "language": "python",
   "name": "python3"
  },
  "language_info": {
   "codemirror_mode": {
    "name": "ipython",
    "version": 3
   },
   "file_extension": ".py",
   "mimetype": "text/x-python",
   "name": "python",
   "nbconvert_exporter": "python",
   "pygments_lexer": "ipython3",
   "version": "3.12.8"
  }
 },
 "nbformat": 4,
 "nbformat_minor": 5
}
